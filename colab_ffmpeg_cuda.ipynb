{
  "nbformat": 4,
  "nbformat_minor": 0,
  "metadata": {
    "colab": {
      "name": "colab-ffmpeg-cuda.ipynb",
      "provenance": []
    },
    "kernelspec": {
      "name": "python3",
      "display_name": "Python 3"
    },
    "accelerator": "GPU"
  },
  "cells": [
    {
      "cell_type": "markdown",
      "metadata": {
        "id": "GQxxI7KtBh0l"
      },
      "source": [
        "Make sure to use GPU hardware accelerator\n",
        "\n",
        "1. Clone the repository (https://github.com/rokibulislaam/colab-ffmpeg-cuda)\n"
      ]
    },
    {
      "cell_type": "code",
      "metadata": {
        "colab": {
          "base_uri": "https://localhost:8080/"
        },
        "id": "cM5C4dVbBs1F",
        "outputId": "ebeb58c5-516b-4723-cb54-73058732098d"
      },
      "source": [
        "!git clone https://github.com/rokibulislaam/colab-ffmpeg-cuda.git"
      ],
      "execution_count": 1,
      "outputs": [
        {
          "output_type": "stream",
          "text": [
            "Cloning into 'colab-ffmpeg-cuda'...\n",
            "remote: Enumerating objects: 47, done.\u001b[K\n",
            "remote: Counting objects: 100% (47/47), done.\u001b[K\n",
            "remote: Compressing objects: 100% (33/33), done.\u001b[K\n",
            "remote: Total 47 (delta 17), reused 36 (delta 14), pack-reused 0\u001b[K\n",
            "Unpacking objects: 100% (47/47), done.\n",
            "Checking out files: 100% (31/31), done.\n"
          ],
          "name": "stdout"
        }
      ]
    },
    {
      "cell_type": "markdown",
      "metadata": {
        "id": "ebPP4NbVBx8A"
      },
      "source": [
        "Copy all the pre-built binaries from ./colab-ffmpeg-cuda/bin/ to /usr/bin/ (Recommended)"
      ]
    },
    {
      "cell_type": "code",
      "metadata": {
        "id": "vh1pxqPJB0JB"
      },
      "source": [
        "!echo Sorry, but the prebuilt binaries have been removed due to containing non-free components"
      ],
      "execution_count": 2,
      "outputs": []
    },
    {
      "cell_type": "markdown",
      "metadata": {
        "id": "AkfdBmM4B3Zg"
      },
      "source": [
        "Check the installed ffmpeg version"
      ]
    },
    {
      "cell_type": "code",
      "metadata": {
        "colab": {
          "base_uri": "https://localhost:8080/"
        },
        "id": "KqnJhN2kB6j7",
        "outputId": "17dc7782-b9d2-4bbe-c78c-b63eecc37d3d"
      },
      "source": [
        "!ffmpeg -version"
      ],
      "execution_count": 4,
      "outputs": [
        {
          "output_type": "stream",
          "text": [
            "ffmpeg version 4.3.1 Copyright (c) 2000-2020 the FFmpeg developers\n",
            "built with gcc 7 (Ubuntu 7.5.0-3ubuntu1~18.04)\n",
            "configuration: --enable-cuda-nvcc --enable-cuvid --enable-nvenc --enable-libnpp --enable-cuda-llvm --pkgconfigdir=/content/workspace/lib/pkgconfig --prefix=/content/workspace --pkg-config-flags=--static --extra-cflags='-I/content/workspace/include -I/usr/local/cuda/include' --extra-ldflags='-L/content/workspace/lib -L/usr/local/cuda/lib64' --extra-libs='-lpthread -lm' --enable-static --disable-debug --disable-shared --disable-ffplay --disable-doc --enable-openssl --enable-gpl --enable-version3 --enable-nonfree --enable-pthreads --enable-libvpx --enable-libmp3lame --enable-libopus --enable-libtheora --enable-libvorbis --enable-libx264 --enable-libx265 --enable-runtime-cpudetect --enable-libfdk-aac --enable-avfilter --enable-libopencore_amrwb --enable-libopencore_amrnb --enable-filters --enable-libvidstab --enable-libaom --enable-libsrt\n",
            "libavutil      56. 51.100 / 56. 51.100\n",
            "libavcodec     58. 91.100 / 58. 91.100\n",
            "libavformat    58. 45.100 / 58. 45.100\n",
            "libavdevice    58. 10.100 / 58. 10.100\n",
            "libavfilter     7. 85.100 /  7. 85.100\n",
            "libswscale      5.  7.100 /  5.  7.100\n",
            "libswresample   3.  7.100 /  3.  7.100\n",
            "libpostproc    55.  7.100 / 55.  7.100\n"
          ],
          "name": "stdout"
        }
      ]
    },
    {
      "cell_type": "markdown",
      "metadata": {
        "id": "xUerLZclCMDA"
      },
      "source": [
        "# Is it not working?\r\n",
        "If you are having trouble with the pre-built binaries, buid the binaries from scratch (It may take more than half an hour)"
      ]
    },
    {
      "cell_type": "code",
      "metadata": {
        "id": "gNiyDCvJCPYf"
      },
      "source": [
        "!chmod +x ./colab-ffmpeg-cuda/build && ./colab-ffmpeg-cuda/build --build"
      ],
      "execution_count": null,
      "outputs": []
    },
    {
      "cell_type": "markdown",
      "metadata": {
        "id": "3ByZiV17CSa8"
      },
      "source": [
        "There you go, ffmpeg with the required binaries should be installed to /usr/bin.\r\n"
      ]
    }
  ]
}
